{
 "cells": [
  {
   "cell_type": "code",
   "execution_count": 14,
   "id": "c96a5dc5",
   "metadata": {},
   "outputs": [
    {
     "data": {
      "text/html": [
       "<pre style=\"word-wrap: normal;white-space: pre;background: #fff0;line-height: 1.1;font-family: &quot;Courier New&quot;,Courier,monospace\">     ┌───┐      ░ ┌─┐   \n",
       "q_0: ┤ H ├──■───░─┤M├───\n",
       "     └───┘┌─┴─┐ ░ └╥┘┌─┐\n",
       "q_1: ─────┤ X ├─░──╫─┤M├\n",
       "          └───┘ ░  ║ └╥┘\n",
       "c: 2/══════════════╩══╩═\n",
       "                   0  1 </pre>"
      ],
      "text/plain": [
       "     ┌───┐      ░ ┌─┐   \n",
       "q_0: ┤ H ├──■───░─┤M├───\n",
       "     └───┘┌─┴─┐ ░ └╥┘┌─┐\n",
       "q_1: ─────┤ X ├─░──╫─┤M├\n",
       "          └───┘ ░  ║ └╥┘\n",
       "c: 2/══════════════╩══╩═\n",
       "                   0  1 "
      ]
     },
     "execution_count": 14,
     "metadata": {},
     "output_type": "execute_result"
    }
   ],
   "source": [
    "#import qiskit libraries\n",
    "from qiskit import QuantumCircuit\n",
    "from qiskit.providers.aer import AerSimulator\n",
    "from qiskit.visualization import plot_bloch_multivector, plot_histogram\n",
    "\n",
    "#build a quantum circuit with 3 qubit and 3 normal bit \n",
    "qc = QuantumCircuit(2, 2)\n",
    "\n",
    "#apply hadamard gate, cnot gate and measurement\n",
    "#this creates a bell-state.\n",
    "qc.h(0)\n",
    "qc.cx(0,1)\n",
    "qc.barrier()\n",
    "\n",
    "#apply measurement\n",
    "qc.measure([0,1], [0,1])\n",
    "\n",
    "#draw the circuit\n",
    "qc.draw()"
   ]
  },
  {
   "cell_type": "code",
   "execution_count": 18,
   "id": "eb2d698a",
   "metadata": {},
   "outputs": [
    {
     "name": "stdout",
     "output_type": "stream",
     "text": [
      "{'11': 509, '00': 515}\n"
     ]
    }
   ],
   "source": [
    "#run simulator \n",
    "sim = AerSimulator()\n",
    "job = sim.run(qc)\n",
    "\n",
    "#get result and counts from the simulator \n",
    "#and then print the counts\n",
    "result = job.result()\n",
    "result.get_counts()\n",
    "print(result.get_counts())\n",
    "\n",
    "#the counts will sometimes be diffrent when \n",
    "#you run it a few times. "
   ]
  },
  {
   "cell_type": "code",
   "execution_count": null,
   "id": "f9953507-03a1-4864-9939-916984fa1601",
   "metadata": {},
   "outputs": [],
   "source": []
  }
 ],
 "metadata": {
  "kernelspec": {
   "display_name": "Python 3 (ipykernel)",
   "language": "python",
   "name": "python3"
  },
  "language_info": {
   "codemirror_mode": {
    "name": "ipython",
    "version": 3
   },
   "file_extension": ".py",
   "mimetype": "text/x-python",
   "name": "python",
   "nbconvert_exporter": "python",
   "pygments_lexer": "ipython3",
   "version": "3.9.13"
  }
 },
 "nbformat": 4,
 "nbformat_minor": 5
}
